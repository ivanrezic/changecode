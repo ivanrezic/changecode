{
 "cells": [
  {
   "cell_type": "code",
   "execution_count": 1,
   "metadata": {},
   "outputs": [],
   "source": [
    "import requests\n",
    "import json"
   ]
  },
  {
   "cell_type": "code",
   "execution_count": 3,
   "metadata": {},
   "outputs": [
    {
     "name": "stdout",
     "output_type": "stream",
     "text": [
      "Team already registered!\n"
     ]
    }
   ],
   "source": [
    "data = {\n",
    "    \"Teamname\": \"KKF\",\n",
    "    \"Password\": \"od1do10\",\n",
    "    \"Members\": [\n",
    "        {\"name\":\"Frano\",\"surname\": \"Ćaleta\",\"mail\": \"frano.caleta@fer.hr\"},\n",
    "        {\"name\":\"Marin\",\"surname\": \"Krešo\",\"mail\": \"marin.kreso@fer.hr\"},\n",
    "        {\"name\":\"Matteo\",\"surname\": \"Miloš\",\"mail\": \"matteo.milos@fer.hr\"},\n",
    "        {\"name\":\"Ivan\",\"surname\": \"Rezić\",\"mail\": \"ivan.rezic@fer.hr\"}\n",
    "    ]\n",
    "}\n",
    "response = json.loads(requests.post(\"http://52.233.158.172/change/api/hr/account/register\", data).text)\n",
    "\n",
    "if response['Errors']:\n",
    "    print(\"Team already registered!\")"
   ]
  },
  {
   "cell_type": "code",
   "execution_count": 9,
   "metadata": {},
   "outputs": [
    {
     "name": "stdout",
     "output_type": "stream",
     "text": [
      "{'Password': None, 'Errors': [], 'AuthorizationToken': 'S0tGOjo=', 'TeamId': 36, 'NextApi': 'http://52.233.158.172/change/documents/KKF/2137634ChangeCode_korak_3.pdf', 'TeamName': 'KKF'}\n",
      "------------------------------------------------------------\n",
      "Authorization Token: S0tGOjo=\n",
      "Team id: 36\n"
     ]
    }
   ],
   "source": [
    "login_data = {\n",
    "    \"Teamname\": \"KKF\",\n",
    "    \"Password\": \"od1do10\"\n",
    "}\n",
    "response = json.loads(requests.post(\"http://52.233.158.172/change/api/hr/account/login\", login_data).text)\n",
    "data = json.loads(response['Result'])\n",
    "\n",
    "token = data['AuthorizationToken']\n",
    "team_id = data['TeamId']\n",
    "\n",
    "print(data)\n",
    "print(\"-\" * 60)\n",
    "print(\"Authorization Token:\", token)\n",
    "print(\"Team id:\", team_id)"
   ]
  },
  {
   "cell_type": "code",
   "execution_count": 14,
   "metadata": {},
   "outputs": [
    {
     "name": "stdout",
     "output_type": "stream",
     "text": [
      "{\"Id\":36,\"TeamName\":\"KKF\",\"Password\":null,\"Members\":[{\"Id\":0,\"Name\":\"Frano\",\"Surname\":\"Caleta\",\"Mail\":\"frano.caleta@fer.hr\",\"NextApi\":null,\"Errors\":[]},{\"Id\":0,\"Name\":\"Marin\",\"Surname\":\"Krešo\",\"Mail\":\"marin.kreso@fer.hr\",\"NextApi\":null,\"Errors\":[]},{\"Id\":0,\"Name\":\"Matteo\",\"Surname\":\"Miloš\",\"Mail\":\"matteo.milos@fer.hr\",\"NextApi\":null,\"Errors\":[]},{\"Id\":0,\"Name\":\"Ivan\",\"Surname\":\"Rezic\",\"Mail\":\"ivan.rezic@fer.hr\",\"NextApi\":null,\"Errors\":[]}],\"NextApi\":\"http://52.233.158.172/change/documents/KKF/1231312ChangeCode_korak_4.pdf\",\"Errors\":[]}\n"
     ]
    }
   ],
   "source": [
    "response = json.loads(requests.get(\"http://52.233.158.172/change/api/hr/team/details/\" + str(team_id), headers = {\"X-Authorization\": token}).text)\n",
    "print(response['Result'])"
   ]
  },
  {
   "cell_type": "code",
   "execution_count": 16,
   "metadata": {},
   "outputs": [
    {
     "name": "stdout",
     "output_type": "stream",
     "text": [
      "Task completed!\n"
     ]
    }
   ],
   "source": [
    "repository = \"https://github.com/ivanrezic/changecode\"\n",
    "url = \"http://52.233.158.172/change/api/hr/team/confirm?id=%d&repository=%s\" % (team_id, repository)\n",
    "\n",
    "response = json.loads(requests.get(url, headers = {\"X-Authorization\": token}).text)\n",
    "\n",
    "if not response['Errors'] : \n",
    "    print(\"Task completed!\")"
   ]
  }
 ],
 "metadata": {
  "kernelspec": {
   "display_name": "Python 3",
   "language": "python",
   "name": "python3"
  },
  "language_info": {
   "codemirror_mode": {
    "name": "ipython",
    "version": 3
   },
   "file_extension": ".py",
   "mimetype": "text/x-python",
   "name": "python",
   "nbconvert_exporter": "python",
   "pygments_lexer": "ipython3",
   "version": "3.5.0"
  }
 },
 "nbformat": 4,
 "nbformat_minor": 2
}
